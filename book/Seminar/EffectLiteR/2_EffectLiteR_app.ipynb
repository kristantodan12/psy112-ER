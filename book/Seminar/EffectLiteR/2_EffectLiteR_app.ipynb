{
 "cells": [
  {
   "cell_type": "markdown",
   "metadata": {},
   "source": [
    "## EffectLiteR App\n",
    "\n",
    "### 1. Introduction\n",
    "\n",
    "The **EffectLiteR** approach constitutes a framework for performing an in-depth analysis of the effects associated with a discrete treatment variable (e.g., intervention) on a quantitative outcome variable, while taking into account the potential bias introduced by discrete and quantitative observed and/or latent covariates. This may sound familiar to you, as previously reviewed methods such as ANCOVA compare the effects of an independent variable (treatment) on a quantitative outcome variable after correcting for covariates, such as biological sex, scores at pre-intervention assessment, etc. (see our tutorial number 2). However, he `EffectLiteR` approach provides a powerful and flexible framework for conducting an in-depth causal analysis. Its main goal is to estimate the effect of a treatment on a quantitative outcome, while carefully accounting for other variables (covariates) that might introduce bias.\n",
    "\n",
    "The strength of `EffectLiteR` comes from the sophisticated way it combines key ideas from several different statistical traditions. This allows it to provide a much richer and more nuanced picture than a single, simpler method could. The core elements it combines are:\n",
    "\n",
    "* **1. From ANOVA: Main and Interaction Effects**\n",
    "    * It builds on the familiar concepts from traditional Analysis of Variance (ANOVA). It allows you to investigate the **main effect** of a treatment (its overall impact) as well as **interaction effects**, where the effect of the treatment might be different for various subgroups (e.g., the treatment works better for men than for women).\n",
    "\n",
    "* **2. From Causal Inference: Covariate Adjustment**\n",
    "    * At its heart, the approach is designed for making causal claims, not just finding correlations. It does this by statistically **adjusting for covariates**—both discrete (like group membership) and continuous (like age)—that could otherwise bias the results. This process is what allows for the clear definition and calculation of **Conditional and Average Causal Effects**.\n",
    "\n",
    "* **3. From Structural Equation Modeling (SEM): Advanced Modeling Techniques**\n",
    "    * `EffectLiteR` uses the power of SEM to build its models, which allows for several key advantages:\n",
    "        * Using **latent variables** to represent \"true scores\" of concepts that are hard to measure (like anxiety), which accounts for measurement error.\n",
    "        * Using **multigroup modeling** to flexibly compare the treatment and control groups.\n",
    "        * The ability to include **higher-order interactions** to answer more complex research questions.\n",
    "\n",
    "* **4. From Stochastic Theory: Realistic Sampling Assumptions**\n",
    "    * This is a more technical advantage, but it allows the model to make more realistic assumptions about how the data was collected. It includes the ability to properly handle **categorical covariates** by incorporating the randomness of the group sizes into the model, rather than treating them as fixed numbers.\n",
    "\n",
    "Simply put, the **EffectLiteR** approach offers several advantages by including latent variables and higher order interactions with the aim of investigating bias-reduced estimates of treatment effects on a given outcome variable. This generally includes total effects per group, but also subgroup-specific or interaction effects. That is, we want to obtain bias-reduced estimates of the effect of different combinations of levels of independent variables by accounting for the effects of covariates. Furthermore, this approach allows us to consider the influence of discrete and continuous covariates on the conditional treatment effects at the level of individuals. The main idea underlying the **EffectLiteR** approach is to condition relationships between variables on a set of covariates. We intend to estimate treatment effects  **given** the values of all relevant covariates. If you want to read more about `EffectLiteR`, please visit:\n",
    "\n",
    "https://osf.io/84qrx/download \n",
    "where you will find an open access preprint explaining EffectLiteR functionality for modern evaluation research. \n",
    "\n",
    "\n",
    "Let us come back to our example (`sophonet_data_simulated`): The main goal of the study is to investigate the effect of two kinds of therapy on social phobia. To do so, we measure social phobia before and after intervention. **EffectLiteR** will allow us to estimate the effects of these two therapies on social phobia while considering the effects of relevant covariates such as comorbidity and baseline values of social phobia, among others. "
   ]
  },
  {
   "cell_type": "markdown",
   "metadata": {},
   "source": [
    "### 2. The EffectLiteR package\n",
    "\n",
    "In this tutorial we will be working with the `EffectLiteR` tool, which is implemented as a Shiny R app by the main package author Axel Mayer. Clicking on the next link will open an HTML graphical user interface (GUI), where no coding is needed and statistical analysis can be conducted by inserting the necessary information in the corresponding fields and by choosing from a set of available analysis options and tools. \n",
    "\n",
    "https://amayer.shinyapps.io/elrshiny/ "
   ]
  }
 ],
 "metadata": {
  "kernelspec": {
   "display_name": "psy112ER",
   "language": "python",
   "name": "python3"
  },
  "language_info": {
   "codemirror_mode": {
    "name": "ipython",
    "version": 3
   },
   "file_extension": ".py",
   "mimetype": "text/x-python",
   "name": "python",
   "nbconvert_exporter": "python",
   "pygments_lexer": "ipython3",
   "version": "3.11.0"
  }
 },
 "nbformat": 4,
 "nbformat_minor": 2
}
