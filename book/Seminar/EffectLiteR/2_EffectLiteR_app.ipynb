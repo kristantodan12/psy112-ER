{
 "cells": [
  {
   "cell_type": "markdown",
   "metadata": {},
   "source": [
    "## EffectLiteR App\n",
    "\n",
    "### 1. Introduction\n",
    "\n",
    "The **EffectLiteR** approach constitutes a framework for performing an in-depth analysis of the effects associated with a discrete treatment variable (e.g., intervention) on a quantitative outcome variable, while taking into account the potential bias introduced by discrete and quantitative observed and/or latent covariates. This may sound familiar to you, as previously reviewed methods such as ANCOVA compare the effects of an independent variable (treatment) on a quantitative outcome variable after correcting for covariates, such as biological sex, scores at pre-intervention assessment, etc. (see our tutorial number 2). However, the **EffectLiteR** approach offers several advantages, illustrated by the sophisticated elements and ideas that it involves and combines:\n",
    "\n",
    "* From traditional analysis of variance methods, the idea of main and interaction effects;\n",
    "* From the causal inference literature, the adjustment for discrete and continuous covariates, leading to the definition of **conditional and average effects**;\n",
    "* From SEM, the usage of latent variables representing true scores, multigroup modeling and the inclusion of higher order interactions; \n",
    "* From stochastic theory, the possibility of including categorical covariates by adding a feature for modeling the group size. \n",
    "\n",
    "Simply put, the **EffectLiteR** approach offers several advantages by including latent variables and higher order interactions with the aim of investigating bias-reduced estimates of treatment effects on a given outcome variable. This generally includes total effects per group, but also subgroup-specific or interaction effects. That is, we want to obtain bias-reduced estimates of the effect of different combinations of levels of independent variables by accounting for the effects of covariates. Furthermore, this approach allows us to consider the influence of discrete and continuous covariates on the conditional treatment effects at the level of individuals. The main idea underlying the **EffectLiteR** approach is to condition relationships between variables on a set of covariates. We intend to estimate treatment effects  **given** the values of all relevant covariates. If you want to read more about `EffectLiteR`, please visit:\n",
    "\n",
    "https://osf.io/84qrx/download \n",
    "where you will find an open access preprint explaining EffectLiteR functionality for modern evaluation research. \n",
    "\n",
    "\n",
    "Let us come back to our example (`sophonet_data_simulated`): The main goal of the study is to investigate the effect of two kinds of therapy on social phobia. To do so, we measure social phobia before and after intervention. **EffectLiteR** will allow us to estimate the effects of these two therapies on social phobia while considering the effects of relevant covariates such as comorbidity and baseline values of social phobia, among others. "
   ]
  },
  {
   "cell_type": "markdown",
   "metadata": {},
   "source": [
    "### 2. The EffectLiteR package\n",
    "\n",
    "In this tutorial we will be working with the `EffectLiteR` tool, which is implemented as a Shiny R app by the main package author Axel Mayer. Clicking on the next link will open an HTML graphical user interface (GUI), where no coding is needed and statistical analysis can be conducted by inserting the necessary information in the corresponding fields and by choosing from a set of available analysis options and tools. \n",
    "\n",
    "https://amayer.shinyapps.io/elrshiny/ "
   ]
  }
 ],
 "metadata": {
  "kernelspec": {
   "display_name": "Python 3",
   "language": "python",
   "name": "python3"
  },
  "language_info": {
   "codemirror_mode": {
    "name": "ipython",
    "version": 3
   },
   "file_extension": ".py",
   "mimetype": "text/x-python",
   "name": "python",
   "nbconvert_exporter": "python",
   "pygments_lexer": "ipython3",
   "version": "3.11.0"
  }
 },
 "nbformat": 4,
 "nbformat_minor": 2
}
