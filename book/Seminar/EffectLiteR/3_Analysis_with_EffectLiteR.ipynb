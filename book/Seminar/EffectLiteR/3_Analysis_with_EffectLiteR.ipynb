{
 "cells": [
  {
   "cell_type": "markdown",
   "metadata": {},
   "source": [
    "## Data analysis with EffectLiteR App\n",
    "\n",
    "### 1. Opening the app\n",
    "\n",
    "Please keep in mind the main idea behind the **EffectLiteR** approach and how we can access it. I will now illustrate its implementation by working on our data example (`sophonet_data_simulated`). First, open the EffectLiteR app by clicking the link\n",
    "\n",
    "https://amayer.shinyapps.io/elrshiny/ \n",
    "\n",
    "For this study, let us set the alpha value at .05"
   ]
  },
  {
   "cell_type": "markdown",
   "metadata": {},
   "source": [
    "### 2. Loading data\n",
    "\n",
    "In order to load the data file, you need to click the `browse` button under the `Data file` field and select the \"sophonet_data_simulated.csv\" that you downloaded from Stud.IP together with this tutorial.\n",
    "\n",
    "After successfully loading the data, you should see something similar to:\n",
    "\n",
    "![Load Data](../EffectLiteR/Datasets/load_data.JPG)\n",
    "\n",
    "It might be the case that the interface for displaying the data set throws you an error and your data set looks like:\n",
    "\n",
    "![Load Data Error](../EffectLiteR/Datasets/load_data_2.JPG)\n",
    "\n",
    "Although it does not look in order, all following analysis can be performed without any problem, so just ignore it."
   ]
  },
  {
   "cell_type": "markdown",
   "metadata": {},
   "source": [
    "### 3. Selecting appropriate options\n",
    "\n",
    "If the data frame contains missing values, we have to use a different estimator and not the default one. Click the \"Options\" tab and select the \"fiml\" estimator (Full Information Maximum Likelihood Estimator) under the \"missing data\" field (see image)\n",
    "\n",
    "![Estimator](../EffectLiteR/Datasets/estimator.JPG)\n",
    "\n",
    "Otherwise, the default settings will work well for this example."
   ]
  },
  {
   "cell_type": "markdown",
   "metadata": {},
   "source": [
    "### 4. Model specification\n",
    "\n",
    "Following the scientific literature on social phobia, we can select a set of covariates that have been shown to influence social phobia and its treatment:\n",
    "\n",
    "- comorbid = Number of comorbid mental dissorders\n",
    "- iip.dom = Test score for dominance\n",
    "- iip.lov = Test score for affiliation\n",
    "- lsas.lt1 = Social phobia at time 1 (social phobia scores before intervention)\n",
    "- bdi.lt1 = Severity of depressive symptoms\n",
    "- ecr.anx.lt1 = Attachment anxiety \n",
    "- ecr.avoi.lt1 = Avoidance\n",
    "- hal = Personality dimension harm avoidance\n",
    "\n",
    "\n",
    "#### A. Manifest (Observed) variables or indicators\n",
    "\n",
    "The first step toward defining a model is to specify the manifest variables:\n",
    "\n",
    "- Click the \"Manifest variables\" tab and insert the names of the corresponding covariates. In our case, **only the first three** covariates from the above list are at the manifest level. Therefore, they need to be specified at this stage. \n",
    "\n",
    "- Image below shows an example including the first manifest covariate. Go ahead and insert the remaining 2. Remember that they are **continuous** variables. \n",
    "\n",
    "![M_Cov](../EffectLiteR/Datasets/m_cov.JPG)\n",
    "\n",
    "- You will also need to specify the grouping variable: Under the \"Treatment Variable X\" field select the \"tb\" variable as it denotes the X variable in our study. If you go back to the \"Options\" tab, you will see that you can select the reference group, which automatically has been assigned to CBT. For now continue with this default setting.\n",
    "\n",
    "#### B. Latent variables\n",
    "\n",
    "The next step is to declare the latent variables:\n",
    "\n",
    "Each latent variable is measured by a set of indicators. For example, social phobia at time 2 is measured by lsas.a.t2 and lsas.v.t2, both of which are item parcels. The following table displays the latent variables to be included in our model, as well as the indicators by which they are measured."
   ]
  },
  {
   "cell_type": "code",
   "execution_count": 2,
   "metadata": {},
   "outputs": [
    {
     "name": "stdout",
     "output_type": "stream",
     "text": [
      "                               Lat_vars  \\\n",
      "0                               Phobia2   \n",
      "1                               Phobia1   \n",
      "2                   depression severity   \n",
      "3                    Attachment anxiety   \n",
      "4                             Avoidance   \n",
      "5  Personality dimension harm avoidance   \n",
      "\n",
      "                                       Indicators  \n",
      "0                            lsas.a.t2, lsas.v.t2  \n",
      "1                            lsas.a.t1, lsas.v.t1  \n",
      "2                 bdi.t1.i1, bdi.t1.i2, bdi.t1.i3  \n",
      "3     ecr.anx.t1.i1, ecr.anx.t1.i2, ecr.anx.t1.i3  \n",
      "4  ecr.avoi.t1.i1, ecr.avoi.t1.i2, ecr.avoi.t1.i3  \n",
      "5                 tpq.ha.i1, tpq.ha.i2, tpq.ha.i3  \n"
     ]
    }
   ],
   "source": [
    "# Import required libraries\n",
    "import pandas as pd\n",
    "\n",
    "# Define the indicators and latent variables\n",
    "indicators = [\n",
    "    \"lsas.a.t2, lsas.v.t2\", \n",
    "    \"lsas.a.t1, lsas.v.t1\",                   \n",
    "    \"bdi.t1.i1, bdi.t1.i2, bdi.t1.i3\",  \n",
    "    \"ecr.anx.t1.i1, ecr.anx.t1.i2, ecr.anx.t1.i3\", \n",
    "    \"ecr.avoi.t1.i1, ecr.avoi.t1.i2, ecr.avoi.t1.i3\", \n",
    "    \"tpq.ha.i1, tpq.ha.i2, tpq.ha.i3\",           \n",
    "]\n",
    "\n",
    "lat_vars = [\n",
    "    \"Phobia2\",\n",
    "    \"Phobia1\",                 \n",
    "    \"depression severity\", \n",
    "    \"Attachment anxiety\", \n",
    "    \"Avoidance\", \n",
    "    \"Personality dimension harm avoidance\", \n",
    "]\n",
    "\n",
    "# Create a DataFrame for the latent variables and their indicators\n",
    "sp_lvars = pd.DataFrame({\n",
    "    'Lat_vars': lat_vars,\n",
    "    'Indicators': indicators\n",
    "})\n",
    "\n",
    "# Display the DataFrame\n",
    "print(sp_lvars)"
   ]
  },
  {
   "cell_type": "markdown",
   "metadata": {},
   "source": [
    "Considering the information provided in the table go back to the `EffectLiteR` window on your browser and specify all latent variables with their corresponding indicators. You will have to click on the \"Latent variables\" tab. At this stage you should also define your latent dependent variable under the \"Indicators of Latent Dependent Variable\" field.\n"
   ]
  },
  {
   "cell_type": "markdown",
   "metadata": {},
   "source": [
    "### 5. Model fitting\n",
    "\n",
    "Now that the full model has been specified, `EffectLiteR` will fit it automatically by clicking on the \"EffectLiteR\" tab on the right hand side of the GUI. After a few seconds, you will see the main output."
   ]
  },
  {
   "cell_type": "markdown",
   "metadata": {},
   "source": [
    "### 6. Interpreting the main output\n",
    "\n",
    "\n",
    "* The variables included in the model are listed. That is, the outcome or dependent variable, all the covariates (in our case 8) and the levels of the independent variable:\n",
    "\n",
    "![Output1](../EffectLiteR/Datasets/Output_1.JPG)\n",
    "\n",
    "* The next part of the output shows three regressions in equation form that are necessary for our analysis. These equations define the structure of the causal model being tested:\n",
    "\n",
    "    1.  **`E(Y|X,Z) = g0(Z) + g1(Z)*I_X=1`**: This is the main regression equation for the entire model. It states that the expected outcome `Y` (social phobia), for a person with characteristics `Z` and receiving treatment `X`, is the sum of a baseline outcome `g0(Z)` and a treatment effect `g1(Z)`. The indicator function `I_X=1` ensures that the treatment effect `g1(Z)` is \"switched on\" (added to the baseline) only for individuals in the treatment group (where X=1).\n",
    "\n",
    "    2.  **`g0(Z) = g000 + g001*Z1 + ...`**: This is the **Intercept Function**. It specifies the model for the expected outcome of the reference group (CBT). It shows that the baseline outcome is not just a single value but is dependent on a person's individual characteristics, represented by the weighted sum of the eight covariates (Z1-Z8).\n",
    "\n",
    "    3.  **`g1(Z) = g100 + g101*Z1 + ...`**: This is the **Effect Function**. It specifies the model for the conditional causal effect—the difference between STPP and CBT. This equation allows the treatment effect to vary depending on the covariates. The `g100` term represents the main effect when all covariates are zero, while the subsequent terms (`g101*Z1`, etc.) represent interaction effects, testing whether the treatment is more or less effective for people with different characteristics.\n",
    "\n",
    "![Output2](../EffectLiteR/Datasets/Output_2.JPG)\n",
    "\n",
    "* The **Intercept Function**, denoted as `g0(Z)`, models the expected outcome for the reference group, which in this case is the **CBT group**. It represents a baseline against which the treatment group is compared. The function itself is composed of a main intercept (`g000`), which is the expected outcome for a person in the CBT group when all covariates are zero, and a series of coefficients (`g001` through `g008`) that represent the unique effect of each covariate on the outcome *within the CBT group*.\n",
    "\n",
    "* The **Effect Function**, denoted as `g1(Z)`, represents the **conditional causal effect**. It models the *difference* in the expected outcome between the STPP and CBT groups. It is \"conditional\" because the effect can change **given** particular values of the covariates (Z). This function is composed of a main effect (`g100`), which represents the difference between STPP and CBT when all covariates are zero, and a series of **interaction effects** (`g101` through `g108`). Each interaction effect describes how the difference between the two therapies changes as the value of a specific covariate changes.\n",
    "\n",
    "* For both the Intercept and Effect functions, parameter estimates and significance tests are provided. These tables are presented in a format similar to the conventional output from the **`lavaan`** package in R, which is a popular tool for structural equation modeling. This makes the results familiar and easy to interpret for researchers accustomed to this framework.\n",
    "\n",
    "* The **\"Cell Counts\"** section provides basic descriptive information about the number of participants in each condition of the study. In this analysis, there are two cells: the reference group (CBT, or X=0) and the treatment group (STPP, or X=1). This section is useful for verifying the sample size for each group and confirming that the data has been categorized correctly. The sum of the numbers in each cell should equal the total sample size of the study.\n",
    "\n",
    "![Output3](../EffectLiteR/Datasets/Output_3.JPG)\n",
    "\n",
    "* Under the \"Main Hypotheses\" section of the output, we find four null hypotheses. The software provides statistical estimates from a Wald Chi-Square test that allow us to decide whether these hypotheses should be rejected.\n",
    "\n",
    "* These four null hypotheses test the following claims:\n",
    "\n",
    "    1.  **There are average effects.** This tests the Average Causal Effect (ACE), which is the overall effect of the treatment averaged across the entire population. The formal hypothesis is `E[g1(Z)] = 0`. It asks: \"After averaging across all participant characteristics, is there an overall difference between STPP and CBT?\"\n",
    "\n",
    "    2.  **There are significant effects of the covariates in the control group.** This tests whether the set of covariates (Z1-Z8) has any predictive power on the outcome *within the reference group (CBT) only*. Essentially, it tests if the `g0(Z)` function is better at predicting outcomes than just a single average value.\n",
    "\n",
    "    3.  **There are interaction effects.** This tests whether the effect of the treatment varies depending on the participants' characteristics. The null hypothesis is that all interaction terms (`g101` through `g108`) are simultaneously zero. It asks: \"Is the difference between STPP and CBT the same for everyone, or does it change for people with different covariate values?\"\n",
    "\n",
    "    4.  **There are treatment effects.** This is a stricter test than the average effect. It tests if the *entire effect function*, `g1(Z)`, is equal to zero. This means testing if the main effect (`g100`) AND all interaction effects are simultaneously zero. It asks: \"Is the treatment completely ineffective for every possible subgroup, or is there an effect for at least one group?\"\n",
    "\n",
    "* **Conclusion from the statistical tests:**\n",
    "\n",
    "    The p-values from the Wald Chi-square test allow us to make decisions on these hypotheses:\n",
    "    * The p-value for **average effects** is **8.23e-05**. Since this is < 0.05, we reject the null hypothesis and conclude that there is a statistically significant average difference between STPP and CBT.\n",
    "    * The p-value for **covariate effects in the control group** is **0**, which is extremely small. We reject the null hypothesis, confirming that the covariates are significant predictors of social phobia within the CBT group.\n",
    "    * The p-value for **interaction effects** is **0.00416**. Since this is > 0.05, we fail to reject the null hypothesis. There is no significant evidence that the treatment effect differs across people with different characteristics.\n",
    "    * The p-value for the overall **treatment effects** is **7.55e-06**. Since this is < 0.05, we reject the null hypothesis, confirming that the treatment has a significant effect overall.\n",
    "\n",
    "* This final section of the output summarizes the practical implications of the model.\n",
    "\n",
    "* **Adjusted Means**: These are the estimated average outcomes for each group after controlling for the covariates.\n",
    "    * The adjusted mean for the CBT group (`Adj.Mean0`) is **0.967**.\n",
    "    * The adjusted mean for the STPP group (`Adj.Mean1`) is **1.143**.\n",
    "\n",
    "* **Average Effects**: This provides the overall **Average Causal Effect (ACE)**.\n",
    "    * The average effect (`E[g1(Z)]`) is **0.176**, which is simply the difference between the two adjusted means.\n",
    "    * This effect is statistically significant (p=8.23e-05), with a standardized effect size of 0.439.\n",
    "\n",
    "* ### **Effects given a Treatment Condition: Is the Effect the Same for Everyone?**\n",
    "\n",
    "This section essentially asks: Was the treatment effect consistent for both groups of people in the study? Or did the people who were assigned to STPP happen to be a group that was destined to respond better (or worse) to it anyway? It does this by calculating the effect separately for the people in each original group.\n",
    "\n",
    "  * #### **Average Treatment effect on the Treated (ATT): The Real-World Effect**\n",
    "\n",
    "    This is the most straightforward result. It looks only at the group of people who actually received STPP and answers the question: \"For this specific group, what was the real, measured effect of STPP compared to what we would have expected if they had received CBT?\"\n",
    "\n",
    "    * The output shows the ATT (`E[g1(Z)|X=1]`) is **0.172** (p=3.13e-04). This is a statistically significant, positive effect experienced by the group that received the STPP therapy.\n",
    "\n",
    "  * #### **Average Treatment effect on the Untreated (ATU): The \"What If?\" Effect**\n",
    "\n",
    "    This is the counterfactual part, which is more abstract. Think of it like two farmers using different fertilizers. The ATU asks: \"If the farmer who used the standard fertilizer had used the new one instead, what would their crop yield have been?\"\n",
    "\n",
    "    * In our study, this answers the question: \"For the group of people who actually received CBT, what *would have been* the average effect of STPP if we could magically go back in time and give them STPP instead?\"\n",
    "\n",
    "    * The output shows the ATU (`E[g1(Z)|X=0]`) is **0.180** (p=9.96e-05). This is a statistically significant hypothetical effect.\n",
    "\n",
    "  * #### **Interpretation: Why the Similarity of ATT and ATU is So Important**\n",
    "\n",
    "    In your data, the real-world effect (ATT = 0.172) is almost identical to the \"what if\" effect (ATU = 0.180). This consistency is a very important finding and is exactly what we hope to see in a well-designed Randomized Controlled Trial (RCT).\n",
    "\n",
    "    * **What it means**: Because participants were assigned to CBT or STPP randomly, the two groups were, on average, equivalent at the start of the study. They had similar levels of motivation, similar comorbidities, etc. Since the people in both groups are so similar, it makes sense that they would respond to the STPP treatment in a very similar way.\n",
    "\n",
    "    * **The Conclusion**: This result gives us strong confidence that our findings are not due to selection bias (e.g., it wasn't just that the \"easier\" patients happened to end up in the STPP group). It suggests the positive effect of STPP (compared to CBT) is **robust and generalizable** across the different types of people in the study, which strengthens the validity of the overall Average Causal Effect (ACE).\n"
   ]
  },
  {
   "cell_type": "markdown",
   "metadata": {},
   "source": [
    "### 7. Further Details\n",
    "\n",
    "It was previously mentioned that `EffectLiteR` requires `lavaan`. This is because the model is actually specified as multigroup SEM and can be written using the `lavaan` notation. Go to the \"syntax\" tab to see how the model specification in `lavaan` looks like. \n",
    "\n",
    "If we have a model that is run using `lavaan`, we most likely have the corresponding output. Click on the \"Results\" tab to see the standard output provided by `lavaan`."
   ]
  },
  {
   "cell_type": "markdown",
   "metadata": {},
   "source": [
    "### 9. Do treatment effects vary across the sample?\n",
    "\n",
    "We are frequently interested in investigating the treatment effects from the perspective of individual differences. This means that we would like to assess how much treatment effects vary across individuals. This is the question of how much the conditional effect (g1) estimate varies. In order to obtain such an estimate, `EffectLiteR` calculates the factor scores (scores of latent covariates in the model, in our case 8) and manifest covariates' scores for each participant. Clicking on the \"Conditional Effects I\" tab will display a table containing the values of each of the estimated factor scores, manifest variables and conditional effects along with the standard error and the expected outcomes under both treatment groups for each participant.\n",
    "\n",
    "\n",
    "By clicking on the Download \"Conditional Effects Data\" option, it is possible to download this data set in .txt format. We now load it under the name `effects`: "
   ]
  },
  {
   "cell_type": "code",
   "execution_count": 3,
   "metadata": {},
   "outputs": [
    {
     "name": "stdout",
     "output_type": "stream",
     "text": [
      "Number of rows in the effects DataFrame: 328\n"
     ]
    }
   ],
   "source": [
    "effects = pd.read_csv(\"../EffectLiteR/Datasets/ELR-ConditionalEffects-2021-06-08.txt\", sep='\\s+')\n",
    "effects.head()\n",
    "#Number of rows in the effects DataFrame\n",
    "print(f\"Number of rows in the effects DataFrame: {len(effects)}\")"
   ]
  },
  {
   "cell_type": "markdown",
   "metadata": {},
   "source": [
    "How many rows does this data frame has and why?\n",
    "\n",
    "This data set provides us with valuable information. We have a value for each of the covariates, as well as for the conditional effect for each participant. We can perform descriptive statistics on the different estimates to obtain means, standard deviations, ranges etc. We can do this for each group independently in order to compare both therapies. This process will depend on our research questions. \n",
    "\n",
    "\n",
    "Going back to the `EffectLiteR` GUI, you can visually inspect the individual conditional effects by clicking the \"Plot 4\" tab. You will see a dot for each participant's conditional effect. Select our grouping variable \"tb\" to distinguish between the dots on a color basis. You should see something like this image.\n",
    "\n",
    "![con_e_plot](../EffectLiteR/Datasets/con_e_plot.JPG)"
   ]
  }
 ],
 "metadata": {
  "kernelspec": {
   "display_name": "psy112ER",
   "language": "python",
   "name": "python3"
  },
  "language_info": {
   "codemirror_mode": {
    "name": "ipython",
    "version": 3
   },
   "file_extension": ".py",
   "mimetype": "text/x-python",
   "name": "python",
   "nbconvert_exporter": "python",
   "pygments_lexer": "ipython3",
   "version": "3.11.0"
  }
 },
 "nbformat": 4,
 "nbformat_minor": 2
}
