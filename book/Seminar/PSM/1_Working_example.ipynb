{
 "cells": [
  {
   "cell_type": "markdown",
   "metadata": {},
   "source": [
    "## A working example\n",
    "\n",
    "### 1. Data exploration\n",
    "\n",
    "The `AU` data frame contains information from a research project investigating the effects of a novel behavioral therapy on facial-emotion processing in the context of autism disorder. Given extensive preliminary reports provided by family members and physicians, no pre-intervention measure was considered.  Emotion processing is therefore compared between participants diagnosed with autistic disorder and healthy controls **after intervention only**. `AU` also includes the participants' biological sex (b-sex), age (age) and fluid intelligence (f_inte) score. \n",
    "\n",
    "Feel free to inspect the data frame in the next code chunk."
   ]
  },
  {
   "cell_type": "code",
   "execution_count": 2,
   "metadata": {},
   "outputs": [
    {
     "name": "stdout",
     "output_type": "stream",
     "text": [
      "   Gruppe  Geschlecht  Subject_id  Ort  Dia  Alter  NDeu  NEngl  NMathe  \\\n",
      "0       1           0       10001  HWI  Asp     12   NaN    NaN     NaN   \n",
      "1       1           0       10002  HWI   AA      8   1.0    NaN     1.0   \n",
      "2       1           0       10003  HWI  Asp     13   4.0    4.0     3.0   \n",
      "3       1           1       11004  HWI  ASS     12   2.0    2.0     3.0   \n",
      "4       1           1       11005  HWI  ASS     14   1.0    2.0     1.0   \n",
      "\n",
      "   Gminiq3  Soz Schule Klasse  \n",
      "0       28    1    NAN    NAN  \n",
      "1       19    1    NAN    NAN  \n",
      "2       27    1    NAN    NAN  \n",
      "3       24    0    NAN    NAN  \n",
      "4       41    0    NAN    NAN  \n",
      "Shape of the dataframe: (28, 13)\n",
      "Count of NaN values in each column:\n",
      "Gruppe        0\n",
      "Geschlecht    0\n",
      "Subject_id    0\n",
      "Ort           0\n",
      "Dia           0\n",
      "Alter         0\n",
      "NDeu          1\n",
      "NEngl         4\n",
      "NMathe        1\n",
      "Gminiq3       0\n",
      "Soz           0\n",
      "Schule        0\n",
      "Klasse        0\n",
      "dtype: int64\n"
     ]
    }
   ],
   "source": [
    "import warnings\n",
    "warnings.filterwarnings('ignore')\n",
    "\n",
    "import pandas as pd\n",
    "\n",
    "\n",
    "# Read the CSV file using a relative path\n",
    "## Data frame\n",
    "AU = pd.read_csv(f\"../PSM/Datasets/AU.txt\", sep=\"\\t\", escapechar='\"', skipinitialspace=True)\n",
    "\n",
    "# Display the first few rows of the dataframe\n",
    "print(AU.head())\n",
    "\n",
    "# Display the shape of the dataframe\n",
    "print(f\"Shape of the dataframe: {AU.shape}\")\n",
    "\n",
    "# Count the Nan values in each column\n",
    "nan_counts = AU.isna().sum()\n",
    "\n",
    "# Display the count of NaN values in each column\n",
    "print(\"Count of NaN values in each column:\")\n",
    "print(nan_counts)"
   ]
  },
  {
   "cell_type": "markdown",
   "metadata": {},
   "source": [
    "The `KG` data frame is the control group (no autism). The columns are identical to `AU` data frame."
   ]
  },
  {
   "cell_type": "code",
   "execution_count": 6,
   "metadata": {},
   "outputs": [
    {
     "name": "stdout",
     "output_type": "stream",
     "text": [
      "   Gruppe  Geschlecht  Subject_id  Ort Dia  Alter  NDeu  NEngl  NMathe  \\\n",
      "0       0           0          31  HRO  KG   15.0   2.0    3.0     3.0   \n",
      "1       0           0          35  HRO  KG   15.0   2.0    2.0     2.0   \n",
      "2       0           0          37  HRO  KG   15.0   2.0    2.0     3.0   \n",
      "3       0           0          38  HRO  KG   15.0   2.0    1.0     1.0   \n",
      "4       0           0          39  HRO  KG   15.0   2.0    2.0     1.0   \n",
      "\n",
      "   Gminiq3  Soz Schule Klasse  \n",
      "0       36    2    CJD     9b  \n",
      "1       31    2    CJD     9b  \n",
      "2       33    2    CJD     9b  \n",
      "3       28    2    CJD     9b  \n",
      "4       45    2    CJD     9b  \n",
      "Shape of the dataframe: (139, 13)\n",
      "Count of NaN values in each column:\n",
      "Gruppe        0\n",
      "Geschlecht    0\n",
      "Subject_id    0\n",
      "Ort           0\n",
      "Dia           0\n",
      "Alter         1\n",
      "NDeu          1\n",
      "NEngl         1\n",
      "NMathe        1\n",
      "Gminiq3       0\n",
      "Soz           0\n",
      "Schule        0\n",
      "Klasse        0\n",
      "dtype: int64\n"
     ]
    }
   ],
   "source": [
    "import warnings\n",
    "warnings.filterwarnings('ignore')\n",
    "\n",
    "import pandas as pd\n",
    "\n",
    "\n",
    "# Read the CSV file using a relative path\n",
    "## Data frame\n",
    "KG = pd.read_csv(f\"../PSM/Datasets/KG.txt\", sep=\"\\t\", escapechar='\"', skipinitialspace=True)\n",
    "\n",
    "# Display the first few rows of the dataframe\n",
    "print(KG.head())\n",
    "\n",
    "# Display the shape of the dataframe\n",
    "print(f\"Shape of the dataframe: {KG.shape}\")\n",
    "\n",
    "# Count the Nan values in each column\n",
    "nan_counts = KG.isna().sum()\n",
    "\n",
    "# Display the count of NaN values in each column\n",
    "print(\"Count of NaN values in each column:\")\n",
    "print(nan_counts)"
   ]
  },
  {
   "cell_type": "markdown",
   "metadata": {},
   "source": [
    "### 2. Research question and hypothesis\n",
    "\n",
    "We aim to assess differences in facial emotion recognition between a control group (no autism) and an intervention group in which individuals with autism disorder received a novel therapy targeting social competences. \n",
    "\n",
    "Because individuals in the treatment group received an intense facial expression recognition training prior to the assessment, we expect no differences between the two groups in terms of facial emotion recognition performance. "
   ]
  }
 ],
 "metadata": {
  "kernelspec": {
   "display_name": "psy112ER",
   "language": "python",
   "name": "python3"
  },
  "language_info": {
   "codemirror_mode": {
    "name": "ipython",
    "version": 3
   },
   "file_extension": ".py",
   "mimetype": "text/x-python",
   "name": "python",
   "nbconvert_exporter": "python",
   "pygments_lexer": "ipython3",
   "version": "3.11.0"
  }
 },
 "nbformat": 4,
 "nbformat_minor": 2
}
