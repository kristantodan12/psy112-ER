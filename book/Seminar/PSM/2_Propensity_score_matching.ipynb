{
 "cells": [
  {
   "cell_type": "markdown",
   "metadata": {},
   "source": [
    "## Propensity Score Matching\n",
    "### 1. Concept\n",
    "\n",
    "**PSM** constitutes a powerful technique in the context of observational studies. It aims to improve the study design by identifying the best comparable observational units (e.g., individuals, schools, companies etc.) to be included in the investigation. This capability is highly relevant because it permits observational studies to resemble one of the most important characteristics of purely experimental designs: **Random allocation of observational units to treatment conditions** (e.g., the levels of an independent variable). \n",
    "\n",
    "In a **RCT** study, often thought of as the gold standard approach to estimate treatment effects, the influence of potential confounders is reduced by random allocation of observational units to treatment conditions. This ensures that in each intervention group (e.g. therapy and control), relevant variables that might significantly explain variance in an outcome variable are balanced between the groups, thus minimizing their explanatory power across groups. In our example, we aim to compare individuals in terms of their facial emotion recognition performance. However, the literature suggests that fluid intelligence, biological sex and age are significantly related to this outcome variable. If one of the two groups were formed by individuals who are in general more intelligent, older, and mostly females, conclusions drawn in regard to the impact of an independent variable would not be **reliable** because observed differences in the dependent variable might have been caused by sex, intelligence or age (confounder effects). By randomly allocating participants to either group, we expect these variables to be balanced across the groups and therefore, not to have an effect on group differences on the outcome variable. Great! We have a chance to increase the **internal validity** of our experiment by minimizing the role of external variables (confounders). The problem is that in evaluation research, it is rarely possible to assign units to treatment groups by a random allocation. \n",
    "\n",
    "In fact, evaluation research normally deals with scenarios in which groups are already constituted, for instance when comparing classes within a school, individuals from different companies or when investigating **subject variables**. That is, if we want to compare participants with and without an autism disorder diagnostic, it would not make sense to randomly allocate participants in a control group and an intervention group, as the intervention group is by definition, formed by participants with autism disorder. **PSM** allows us to create different groups in which the effect of confounders is minimized by matching observational units accounting for covariates. In brief, **PSM** yields treatment groups that are equivalent in a set of relevant variables, in our example, biological sex, age and fluid intelligence. \n",
    "\n",
    "**Propensity scores** are **probabilities** of treatment assignment given covariate values at baseline. They are said to be balancing scores because conditional on them, the covariates' distributions are similar across groups. This means that in a set of individuals with similar propensity scores, the covariates' distributions are similar in the control and intervention groups.  \n",
    "\n",
    "Let us see how it works. First, let us load our data again and perform some preprocessing:"
   ]
  },
  {
   "cell_type": "code",
   "execution_count": 15,
   "metadata": {},
   "outputs": [
    {
     "name": "stdout",
     "output_type": "stream",
     "text": [
      "The rpy2.ipython extension is already loaded. To reload it, use:\n",
      "  %reload_ext rpy2.ipython\n",
      "   group  b_sex  Subject_id   age  f_inte  id\n",
      "0      1      0       10001  12.0      28   0\n",
      "1      1      0       10002   8.0      19   1\n",
      "2      1      0       10003  13.0      27   2\n",
      "3      1      1       11004  12.0      24   3\n",
      "4      1      1       11005  14.0      41   4\n",
      "Shape of the processed data: (166, 6)\n"
     ]
    }
   ],
   "source": [
    "#######################################################\n",
    "## Specify R environment for rpy2\n",
    "#import os\n",
    "#os.environ['R_HOME'] = r'C:\\Program Files\\R\\R-4.4.3'  # Replace with your R path\n",
    "import rpy2.robjects as ro\n",
    "from rpy2.robjects import pandas2ri\n",
    "from rpy2.robjects.packages import importr\n",
    "from rpy2.robjects import Formula\n",
    "import contextlib\n",
    "# Ipython extension for plotting\n",
    "%load_ext rpy2.ipython\n",
    "########################################################\n",
    "\n",
    "import warnings\n",
    "warnings.filterwarnings('ignore')\n",
    "\n",
    "import pandas as pd\n",
    "import pingouin as pg\n",
    "\n",
    "\n",
    "# Read the CSV file using a relative path\n",
    "## Data frame\n",
    "AU = pd.read_csv(f\"../PSM/Datasets/AU.txt\", sep=\"\\t\", escapechar='\"', skipinitialspace=True)\n",
    "KG = pd.read_csv(f\"../PSM/Datasets/KG.txt\", sep=\"\\t\", escapechar='\"', skipinitialspace=True)\n",
    "\n",
    "# Combine the AU and KG datasets\n",
    "au_data = pd.concat([AU, KG], ignore_index=False)\n",
    "\n",
    "# Select specific columns\n",
    "au_data = au_data[[\"Gruppe\", \"Geschlecht\", \"Subject_id\", \"Alter\", \"Gminiq3\"]]\n",
    "\n",
    "# Remove rows with missing values\n",
    "au_data = au_data.dropna()\n",
    "\n",
    "# Rename the columns\n",
    "au_data.columns = [\"group\", \"b_sex\", \"Subject_id\", \"age\", \"f_inte\"]\n",
    "\n",
    "# Convert the 'group' column to numeric\n",
    "au_data[\"group\"] = pd.to_numeric(au_data[\"group\"])\n",
    "\n",
    "# Add an ID column\n",
    "au_data['id'] = range(au_data.shape[0])\n",
    "\n",
    "# Display the first few rows of the processed data\n",
    "print(au_data.head())\n",
    "print(f\"Shape of the processed data: {au_data.shape}\")\n",
    "\n",
    "# Save the processed data to a CSV file\n",
    "au_data.to_csv(f\"../PSM/Datasets/au_data.csv\", index=False)"
   ]
  },
  {
   "cell_type": "markdown",
   "metadata": {},
   "source": [
    "### 2. Between-group differences\n",
    "\n",
    "In our example, we are concerned that differences in intelligence might interfere with the effect of the novel therapy on facial emotion recognition. For illustrative purposes we will briefly investigate whether such significant differences exist:\n",
    "\n",
    "Can you think of an easy way to test whether the two groups differ with respect to fluid intelligence? \n",
    "A simple ANOVA (or simply t-test when having only two groups) will answer this question. Use the next code chuck to run an ANOVA considering the kind of design that you have (e.g., within subjects?). Feel free to use any of the functions that you learned during the first tutorials."
   ]
  },
  {
   "cell_type": "code",
   "execution_count": 14,
   "metadata": {},
   "outputs": [
    {
     "name": "stdout",
     "output_type": "stream",
     "text": [
      "One-Way ANOVA Results:\n",
      "   Source            SS   DF          MS         F     p-unc       np2\n",
      "0   group    913.634763    1  913.634763  9.458538  0.002463  0.054529\n",
      "1  Within  15841.359213  164   96.593654       NaN       NaN       NaN\n"
     ]
    }
   ],
   "source": [
    "# Perform one-way ANOVA\n",
    "anova_results = pg.anova(dv='f_inte', between='group', data=au_data, detailed=True)\n",
    "\n",
    "# Print the ANOVA results\n",
    "print(\"One-Way ANOVA Results:\")\n",
    "print(anova_results)\n"
   ]
  },
  {
   "cell_type": "markdown",
   "metadata": {},
   "source": [
    "### 3. Interpretation\n",
    "\n",
    "\n",
    "This table breaks down the sources of variance in the data to determine if there's a statistically significant difference between the means of general intelligence.\n",
    "\n",
    "#### **Columns: Statistical Values**\n",
    "\n",
    "* **`SS` (Sum of Squares)**: This represents the total amount of variation for a given source.\n",
    "    * `SS group` = **913.63**: The total variation that is explained by the differences between the group means.\n",
    "    * `SS Within` = **15041.36**: The total variation within the groups that is *not* explained by group membership (the error).\n",
    "\n",
    "* **`DF` (Degrees of Freedom)**: The number of independent values used to calculate the statistic.\n",
    "    * `DF group` = **1**: Calculated as `(number of groups - 1)`. A value of 1 means you were comparing **two** groups.\n",
    "    * `DF Within` = **164**: Calculated as `(total number of participants - number of groups)`. This means we had **166** total participants in your analysis (164 + 2 groups).\n",
    "\n",
    "* **`MS` (Mean Square)**: The average amount of variance. It is calculated as `SS / DF`.\n",
    "    * `MS group` = **913.63**: The average variance *between* your groups (`913.63 / 1`).\n",
    "    * `MS Within` = **96.59**: The average variance *within* your groups (`15841.36 / 164`).\n",
    "\n",
    "* **`F` (F-statistic)**: The final test statistic for ANOVA. It is the ratio of the variance between groups to the variance within groups (`MS group / MS Within`).\n",
    "    * `F` = **9.45**: Your calculated value (`913.63 / 96.59`). This result shows that the variance explained by the group differences is **9.45 times larger** than the unexplained variance within the groups.\n",
    "\n",
    "* **`p-unc` (p-value, uncorrected)**: The probability of obtaining an F-statistic this large or larger purely by random chance, assuming there is no real difference between the groups (the null hypothesis).\n",
    "    * `p-unc` = **0.002463**: This extremely low probability (about 0.25%) is well below the standard threshold of 0.05 (5%), leading to the conclusion that your result is **statistically significant**.\n",
    "\n",
    "* **`np2` (Partial Eta Squared, $η_p^2$)**: This is the effect size. It measures the proportion of variance in the outcome that is explained by the group membership.\n",
    "    * `np2` = **0.095**: This means that **9.5%** of the total variance in your outcome variable is directly associated with the independent variable ('group'). This is typically considered a **medium-to-large effect size**, indicating the finding is not just statistically significant but also practically meaningful."
   ]
  },
  {
   "cell_type": "markdown",
   "metadata": {},
   "source": [
    "### 4. PSM Computation\n",
    "\n",
    "In order to conduct PSM, we can use the `matchit()` function from the `MatchIt` package in R.\n",
    "\n",
    "R Code for Propensity Score Matching using matchit\n",
    "\n",
    "`m.out = matchit(ov ~ mv1 + mv2 + mv13 + ..., data = data, ratio=1, method = \"nearest\", distance = \"glm\")`\n",
    "\n",
    "---\n",
    "\n",
    "### Parameter Explanations\n",
    "\n",
    "* **`ov`**: Origin or grouping variable. This is the treatment variable that defines the groups (e.g., intervention vs. control). In the formula, this is the variable on the left side of the `~`.\n",
    "* **`mv`**: Matching Variables. These are the covariates (`mv1`, `mv2`, etc.) based on which you want to form equivalent groups. In the formula, these are the variables on the right side of the `~`.\n",
    "* **`data`**: The data frame object that contains all the specified variables.\n",
    "* **`distance`**: The method used to estimate the propensity scores. `\"glm\"` uses a generalized linear model (logistic regression by default) to predict the probability of being in the treatment group.\n",
    "* **`method`**: The algorithm for matching units based on their propensity scores. `\"nearest\"` performs nearest neighbor matching, where one or more control units are matched to each treated unit based on the smallest distance."
   ]
  },
  {
   "cell_type": "code",
   "execution_count": 16,
   "metadata": {},
   "outputs": [
    {
     "name": "stdout",
     "output_type": "stream",
     "text": [
      "\n",
      "Call:\n",
      "matchit(formula = group ~ f_inte + b_sex + age, data = au_data, \n",
      "    method = \"nearest\", distance = \"glm\", ratio = 1)\n",
      "\n",
      "Summary of Balance for All Data:\n",
      "         Means Treated Means Control Std. Mean Diff. Var. Ratio eCDF Mean\n",
      "distance        0.2483        0.1525          0.7675     1.8190    0.2206\n",
      "f_inte         26.7857       33.0507         -0.5483     1.4521    0.1496\n",
      "b_sex           0.2857        0.4855         -0.4423          .    0.1998\n",
      "age            12.9286       13.4493         -0.1868     2.1549    0.0679\n",
      "         eCDF Max\n",
      "distance   0.4120\n",
      "f_inte     0.3949\n",
      "b_sex      0.1998\n",
      "age        0.1853\n",
      "\n",
      "Summary of Balance for Matched Data:\n",
      "         Means Treated Means Control Std. Mean Diff. Var. Ratio eCDF Mean\n",
      "distance        0.2483        0.2419          0.0518     1.1635    0.0076\n",
      "f_inte         26.7857       26.8929         -0.0094     1.2805    0.0349\n",
      "b_sex           0.2857        0.3214         -0.0791          .    0.0357\n",
      "age            12.9286       13.0357         -0.0384     1.8254    0.0643\n",
      "         eCDF Max Std. Pair Dist.\n",
      "distance   0.1429          0.0650\n",
      "f_inte     0.1786          0.2782\n",
      "b_sex      0.0357          0.5534\n",
      "age        0.2143          0.8327\n",
      "\n",
      "Sample Sizes:\n",
      "          Control Treated\n",
      "All           138      28\n",
      "Matched        28      28\n",
      "Unmatched     110       0\n",
      "Discarded       0       0\n",
      "\n",
      "\n"
     ]
    }
   ],
   "source": [
    "# Activate the pandas2ri conversion\n",
    "pandas2ri.activate()\n",
    "\n",
    "# Import the MatchIt package\n",
    "matchit = importr('MatchIt')\n",
    "\n",
    "# Put the data into the R environment\n",
    "ro.globalenv['au_data'] = pandas2ri.py2rpy(au_data)\n",
    "\n",
    "# Perform propensity score matching in R\n",
    "ro.r('''\n",
    "    library(MatchIt)\n",
    "    m_out <- matchit(group ~ f_inte + b_sex + age, data = au_data, method = \"nearest\", distance = \"glm\", ratio = 1)\n",
    "''')\n",
    "\n",
    "# Summarize the matching results in R\n",
    "m_out_summary = ro.r('summary(m_out)')\n",
    "\n",
    "# Print the summary\n",
    "print(m_out_summary)"
   ]
  },
  {
   "cell_type": "markdown",
   "metadata": {},
   "source": [
    "### 5. Output interpretation\n",
    "\n",
    "\n",
    "#### 1. Sample Sizes: Before and After Matching\n",
    "\n",
    "This section shows the direct result of the matching algorithm.\n",
    "\n",
    "* **`All`**: This is the starting point. The original dataset was imbalanced in size, with **138 Control** participants and only **28 Treated** participants.\n",
    "* **`Matched`**: This is the final dataset for analysis. \n",
    "* **`Unmatched`**: These are the participants who were not selected for the final analysis. **110** control participants were left out because their characteristics (summarized by the propensity score) were not close enough to any of the treated individuals.\n",
    "\n",
    "---\n",
    "\n",
    "#### 2. A Guide to the Balance Metrics\n",
    "\n",
    "* **`Std. Mean Diff.` (Standardized Mean Difference):** The most important metric. It measures the difference in means between the two groups, scaled by the standard deviation. **Goal: Get this value as close to 0 as possible.** A common rule of thumb considers a value > |0.1| to indicate a meaningful imbalance.\n",
    "* **`Var. Ratio` (Variance Ratio):** The ratio of the variance in the treated group to the control group. It measures if the *spread* of the data is similar. **Goal: Get this value close to 1.0.**\n",
    "* **`eCDF Mean` & `eCDF Max` (Empirical CDF Statistics):** The eCDF represents the entire distribution of a variable. These stats measure the average (`Mean`) and maximum (`Max`) difference between the distribution curves of the two groups. They are a more robust check than just comparing means. **Goal: Get these values close to 0.**\n",
    "* **`Std. Pair Dist.` (Standardized Pair Distance):** Appears only *after* matching. It is the average difference in the propensity scores for the matched pairs. **Goal: A small value**, which indicates that the matched individuals were indeed very similar on their overall profile.\n",
    "\n",
    "---\n",
    "\n",
    "#### 3. Balance Assessment: Before Matching (`All Data`)\n",
    "\n",
    "This table confirms the initial groups were not comparable.\n",
    "\n",
    "* **`f_inte` (Intelligence):** A severe imbalance is shown by the large `Std. Mean Diff.` of **-0.5483**. The high `eCDF Mean` of **0.1496** confirms the entire distributions were very different.\n",
    "* **`b_sex` (Sex):** A severe imbalance with a `Std. Mean Diff.` of **-0.4423**.\n",
    "* **`age`:** A moderate imbalance with a `Std. Mean Diff.` of **-0.1868**. The `Var. Ratio` of **2.1549** also shows that the variance (spread) of age was more than twice as large in the treated group as in the control group.\n",
    "\n",
    "**Conclusion Before Matching:** The groups were significantly different across all covariates, making a direct comparison unreliable.\n",
    "\n",
    "---\n",
    "\n",
    "#### 4. Balance Assessment: After Matching (`Matched Data`)\n",
    "\n",
    "This table demonstrates the success of the matching procedure.\n",
    "\n",
    "* **`f_inte` (Intelligence):** The `Std. Mean Diff.` was reduced from -0.5483 to an excellent **-0.0094**. The `eCDF Mean` also dropped dramatically from 0.1496 to **0.0349**, showing the entire distributions are now very similar.\n",
    "* **`b_sex` (Sex):** The `Std. Mean Diff.` was reduced from -0.4423 to a negligible **-0.0791**.\n",
    "* **`age`:** The `Std. Mean Diff.` was reduced from -0.1868 to an excellent **-0.0384**. The `Var. Ratio` improved from 2.15 to 1.82. While not perfectly 1, this is still a notable improvement in the balance of variances.\n",
    "* **Pair Distance:** The `Std. Pair Dist.` for the propensity score (`distance`) is **0.1429**, a reasonably small value indicating that the matched pairs were, on average, quite close in their overall profiles.\n",
    "\n",
    "---\n",
    "\n",
    "#### 5. Overall Conclusion\n",
    "\n",
    "The propensity score matching was **successful**.\n",
    "\n",
    "The procedure effectively created a new control group that is highly comparable to the treated group. This is evidenced by the substantial reduction in the **Standardized Mean Differences** and **eCDF statistics** for all covariates, bringing them to negligible levels. This successful balancing provides a much stronger foundation for making causal inferences, as you can be more confident that any difference found in your outcome is due to the treatment itself, not to these pre-existing confounding variables."
   ]
  },
  {
   "cell_type": "markdown",
   "metadata": {},
   "source": [
    "### Exercise\n",
    "\n",
    "Now, use the cell below to re-do the MatchIt analysis but using differet value of ratio (e.g., 2). Find the differences in the outcomes."
   ]
  },
  {
   "cell_type": "code",
   "execution_count": 5,
   "metadata": {},
   "outputs": [
    {
     "name": "stdout",
     "output_type": "stream",
     "text": [
      "\n",
      "Call:\n",
      "matchit(formula = group ~ f_inte + b_sex + age, data = au_data, \n",
      "    method = \"nearest\", distance = \"glm\", ratio = 2)\n",
      "\n",
      "Summary of Balance for All Data:\n",
      "         Means Treated Means Control Std. Mean Diff. Var. Ratio eCDF Mean\n",
      "distance        0.2483        0.1525          0.7675     1.8190    0.2206\n",
      "f_inte         26.7857       33.0507         -0.5483     1.4521    0.1496\n",
      "b_sex           0.2857        0.4855         -0.4423          .    0.1998\n",
      "age            12.9286       13.4493         -0.1868     2.1549    0.0679\n",
      "         eCDF Max\n",
      "distance   0.4120\n",
      "f_inte     0.3949\n",
      "b_sex      0.1998\n",
      "age        0.1853\n",
      "\n",
      "Summary of Balance for Matched Data:\n",
      "         Means Treated Means Control Std. Mean Diff. Var. Ratio eCDF Mean\n",
      "distance        0.2483        0.2189          0.2360     1.5485    0.0403\n",
      "f_inte         26.7857       28.5357         -0.1532     1.6878    0.0683\n",
      "b_sex           0.2857        0.3036         -0.0395          .    0.0179\n",
      "age            12.9286       13.1964         -0.0961     2.3127    0.0661\n",
      "         eCDF Max Std. Pair Dist.\n",
      "distance   0.2143          0.2456\n",
      "f_inte     0.2143          0.3782\n",
      "b_sex      0.0179          0.5139\n",
      "age        0.1964          0.7750\n",
      "\n",
      "Sample Sizes:\n",
      "          Control Treated\n",
      "All           138      28\n",
      "Matched        56      28\n",
      "Unmatched      82       0\n",
      "Discarded       0       0\n",
      "\n",
      "\n"
     ]
    }
   ],
   "source": [
    "# Perform propensity score matching in R\n",
    "ro.r('''\n",
    "    library(MatchIt)\n",
    "    m_out <- matchit(group ~ f_inte + b_sex + age, data = au_data, method = \"nearest\", distance = \"glm\", ratio = 2)\n",
    "''')\n",
    "\n",
    "# Summarize the matching results in R\n",
    "m_out_summary = ro.r('summary(m_out)')\n",
    "\n",
    "# Print the summary\n",
    "print(m_out_summary)"
   ]
  },
  {
   "cell_type": "markdown",
   "metadata": {},
   "source": [
    "  \n",
    "### 6. Graphical output\n",
    "  \n",
    "In addition to the table-form output, it is possible to graphically inspect the PSM results: \n",
    "  \n",
    "#### A. Distribution of Propensity Scores\n",
    "\n",
    "The code line below displays the **Propensity Score Distributions** of matched and unmatched control and intervention groups. The first cell, under \"Unmatched Treatment Units\" is empty because all intervention observations were used for matching. This is not the case for the control group. Note that each dot under \"Matched Treatment Units\" has a corresponding dot under \"Unmatched Treatment Units\" (they are \"in line\"). This is an indication of how the matching procedure worked, meaning that the observations were matched considering their propensity scores. Finally, remember that propensity scores are probability values, so the maximal possible value is 1."
   ]
  },
  {
   "cell_type": "code",
   "execution_count": 17,
   "metadata": {},
   "outputs": [
    {
     "name": "stdout",
     "output_type": "stream",
     "text": [
      "To identify the units, use first mouse button; to stop, use second.\n"
     ]
    },
    {
     "data": {
      "image/png": "[encoded data removed]",
      "text/plain": [
       "<IPython.core.display.Image object>"
      ]
     },
     "metadata": {},
     "output_type": "display_data"
    }
   ],
   "source": [
    "%%R\n",
    "plot(m_out, type = \"jitter\")"
   ]
  },
  {
   "cell_type": "markdown",
   "metadata": {},
   "source": [
    "#### B. Distribution of Propensity Histograms\n",
    "\n",
    "The `plot` below returns four histograms corresponding to intervention and control groups before and after **PSM**. In general, if the PSM properly worked, we would expect the upper and lower right figures to be more similar than the  upper and lower left figures. In other words, the propensity score distributions should be more similar between the intervention and control groups after PSM.\n"
   ]
  },
  {
   "cell_type": "code",
   "execution_count": 7,
   "metadata": {},
   "outputs": [
    {
     "data": {
      "image/png": "[encoded data removed]",
      "text/plain": [
       "<IPython.core.display.Image object>"
      ]
     },
     "metadata": {},
     "output_type": "display_data"
    }
   ],
   "source": [
    "%%R\n",
    "plot(m_out, type = \"hist\")"
   ]
  },
  {
   "cell_type": "markdown",
   "metadata": {},
   "source": [
    "### 7. Output data\n",
    "\n",
    "We can now extract the data set containing only the observations that have been matched to conduct further analysis: \n",
    "\n",
    "We now use the `match.data()` function to extract the data frame that resulted from PSM with ratio = 1. We call the data frame \"matched_au\". Then inspect the data frame and repeat the ANOVA analysis on fluid intelligence to check whether significant between-group differences remain. \n",
    "\n"
   ]
  },
  {
   "cell_type": "code",
   "execution_count": 18,
   "metadata": {},
   "outputs": [
    {
     "name": "stdout",
     "output_type": "stream",
     "text": [
      "One-Way ANOVA Results:\n",
      "   Source           SS  DF          MS         F     p-unc       np2\n",
      "0   group     0.160714   1    0.160714  0.001383  0.970477  0.000026\n",
      "1  Within  6277.392857  54  116.248016       NaN       NaN       NaN\n"
     ]
    }
   ],
   "source": [
    "# Perform match data in R\n",
    "ro.r('matched_au <- match.data(m_out)')\n",
    "\n",
    "# Convert the R DataFrame to a pandas DataFrame\n",
    "matched_au = pandas2ri.rpy2py(ro.r('matched_au'))\n",
    "\n",
    "# Perform one-way ANOVA using the matched data in Python\n",
    "anova_results = pg.anova(dv='f_inte', between='group', data=matched_au, detailed=True)\n",
    "\n",
    "# Print the ANOVA results\n",
    "print(\"One-Way ANOVA Results:\")\n",
    "print(anova_results)"
   ]
  },
  {
   "cell_type": "markdown",
   "metadata": {},
   "source": [
    "These results demonstrate that after performing PSM the two groups do not significantly differ in fluid intelligence. As such, observed differences in face processing skills are less likely to be explained by it. "
   ]
  }
 ],
 "metadata": {
  "kernelspec": {
   "display_name": "psy112ER",
   "language": "python",
   "name": "python3"
  },
  "language_info": {
   "codemirror_mode": {
    "name": "ipython",
    "version": 3
   },
   "file_extension": ".py",
   "mimetype": "text/x-python",
   "name": "python",
   "nbconvert_exporter": "python",
   "pygments_lexer": "ipython3",
   "version": "3.11.0"
  }
 },
 "nbformat": 4,
 "nbformat_minor": 2
}
